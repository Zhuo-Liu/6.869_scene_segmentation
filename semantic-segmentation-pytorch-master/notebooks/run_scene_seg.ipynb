{
  "cells": [
    {
      "cell_type": "code",
      "execution_count": null,
      "metadata": {
        "colab": {
          "base_uri": "https://localhost:8080/"
        },
        "id": "k4whXpKSiEgw",
        "outputId": "f53df378-583f-4e38-d2d9-085357d33c5a"
      },
      "outputs": [
        {
          "output_type": "stream",
          "name": "stdout",
          "text": [
            "Mounted at /content/drive\n"
          ]
        }
      ],
      "source": [
        "from google.colab import drive\n",
        "drive.mount('/content/drive')"
      ]
    },
    {
      "cell_type": "code",
      "execution_count": null,
      "metadata": {
        "colab": {
          "base_uri": "https://localhost:8080/"
        },
        "id": "IPgI2rMKkOxO",
        "outputId": "f2b9482e-1917-4ba3-fff0-220bebc65677"
      },
      "outputs": [
        {
          "output_type": "stream",
          "name": "stdout",
          "text": [
            "Requirement already satisfied: tensorboardX in /usr/local/lib/python3.7/dist-packages (2.5)\n",
            "Requirement already satisfied: six in /usr/local/lib/python3.7/dist-packages (from tensorboardX) (1.15.0)\n",
            "Requirement already satisfied: protobuf>=3.8.0 in /usr/local/lib/python3.7/dist-packages (from tensorboardX) (3.17.3)\n",
            "Requirement already satisfied: numpy in /usr/local/lib/python3.7/dist-packages (from tensorboardX) (1.21.5)\n",
            "Collecting yacs\n",
            "  Downloading yacs-0.1.8-py3-none-any.whl (14 kB)\n",
            "Requirement already satisfied: PyYAML in /usr/local/lib/python3.7/dist-packages (from yacs) (3.13)\n",
            "Installing collected packages: yacs\n",
            "Successfully installed yacs-0.1.8\n"
          ]
        }
      ],
      "source": [
        "!pip install tensorboardX\n",
        "!pip install yacs"
      ]
    },
    {
      "cell_type": "code",
      "execution_count": null,
      "metadata": {
        "id": "3BNCzApDjKWe"
      },
      "outputs": [],
      "source": [
        "# Load the TensorBoard notebook extension\n",
        "%load_ext tensorboard\n",
        "import tensorflow as tf\n",
        "import datetime, os"
      ]
    },
    {
      "cell_type": "code",
      "execution_count": null,
      "metadata": {
        "id": "zumsZWcu6fTp"
      },
      "outputs": [],
      "source": [
        "LOG_DIR = './drive/MyDrive/scene-segmentation/tensorboard_output/'\n",
        "get_ipython().system_raw(\n",
        "    'tensorboard --logdir {} --host 0.0.0.0 --port 6006 &'\n",
        "    .format(LOG_DIR)\n",
        ")"
      ]
    },
    {
      "cell_type": "code",
      "execution_count": null,
      "metadata": {
        "id": "PkSlXd_H6mRi"
      },
      "outputs": [],
      "source": [
        "! curl http://localhost:6006"
      ]
    },
    {
      "cell_type": "code",
      "execution_count": null,
      "metadata": {
        "id": "2Ifd7mhG6q90"
      },
      "outputs": [],
      "source": [
        "! wget https://bin.equinox.io/c/4VmDzA7iaHb/ngrok-stable-linux-amd64.zip > /dev/null 2>&1\n",
        "! unzip ngrok-stable-linux-amd64.zip > /dev/null 2>&1"
      ]
    },
    {
      "cell_type": "code",
      "execution_count": null,
      "metadata": {
        "id": "MxIKLKZF6vFU"
      },
      "outputs": [],
      "source": [
        "get_ipython().system_raw('./ngrok authtoken 217bNLOpv3qDuuZ224CDchd5yO7_oHxoop2U4notgYS8rr3m')\n",
        "get_ipython().system_raw('./ngrok http 6006 &')"
      ]
    },
    {
      "cell_type": "code",
      "execution_count": null,
      "metadata": {
        "colab": {
          "base_uri": "https://localhost:8080/"
        },
        "id": "HMI3u9iq6xHp",
        "outputId": "9dcb50cc-9369-44fb-88fb-ba79009e1f65"
      },
      "outputs": [
        {
          "output_type": "stream",
          "name": "stdout",
          "text": [
            "http://5711-35-202-159-205.ngrok.io\n"
          ]
        }
      ],
      "source": [
        "! curl -s http://localhost:4040/api/tunnels | python3 -c \\\n",
        "    \"import sys, json; print(json.load(sys.stdin)['tunnels'][0]['public_url'])\""
      ]
    },
    {
      "cell_type": "code",
      "execution_count": null,
      "metadata": {
        "id": "t-vl4da-c1-J"
      },
      "outputs": [],
      "source": [
        "%tensorboard --logdir ./drive/MyDrive/scene-segmentation/output/tensorboard_output/"
      ]
    },
    {
      "cell_type": "code",
      "source": [
        "from tensorflow.python.client import device_lib\n",
        "device_lib.list_local_devices()"
      ],
      "metadata": {
        "colab": {
          "base_uri": "https://localhost:8080/"
        },
        "id": "fzrEF5wf-sCo",
        "outputId": "68b2a761-5af6-4e16-af24-741f24b83b47"
      },
      "execution_count": null,
      "outputs": [
        {
          "output_type": "execute_result",
          "data": {
            "text/plain": [
              "[name: \"/device:CPU:0\"\n",
              " device_type: \"CPU\"\n",
              " memory_limit: 268435456\n",
              " locality {\n",
              " }\n",
              " incarnation: 5508243034073227612\n",
              " xla_global_id: -1, name: \"/device:GPU:0\"\n",
              " device_type: \"GPU\"\n",
              " memory_limit: 16154099712\n",
              " locality {\n",
              "   bus_id: 1\n",
              "   links {\n",
              "   }\n",
              " }\n",
              " incarnation: 8616081998546816327\n",
              " physical_device_desc: \"device: 0, name: Tesla P100-PCIE-16GB, pci bus id: 0000:00:04.0, compute capability: 6.0\"\n",
              " xla_global_id: 416903419]"
            ]
          },
          "metadata": {},
          "execution_count": 12
        }
      ]
    },
    {
      "cell_type": "code",
      "execution_count": null,
      "metadata": {
        "colab": {
          "base_uri": "https://localhost:8080/"
        },
        "id": "gO4aRPS6iVNj",
        "outputId": "2291095f-deb0-4593-d116-c9b8bf77357f"
      },
      "outputs": [
        {
          "output_type": "stream",
          "name": "stdout",
          "text": [
            "[2022-04-09 16:18:10,132 INFO train.py line 240 959] Loaded configuration file ./drive/MyDrive/scene-segmentation/config/ade20k-resnet101-upernet.yaml\n",
            "[2022-04-09 16:18:10,133 INFO train.py line 241 959] Running with config:\n",
            "DATASET:\n",
            "  imgMaxSize: 1000\n",
            "  imgSizes: (300, 375, 450, 525, 600)\n",
            "  list_train: ./drive/MyDrive/scene-segmentation/data/training.odgt\n",
            "  list_val: ./drive/MyDrive/scene-segmentation/data/validation.odgt\n",
            "  num_class: 150\n",
            "  padding_constant: 32\n",
            "  random_flip: True\n",
            "  root_dataset: ./drive/MyDrive/scene-segmentation/data/\n",
            "  segm_downsampling_rate: 4\n",
            "DIR: ckpt/ade20k-resnet101-upernet\n",
            "MODEL:\n",
            "  arch_decoder: upernet\n",
            "  arch_encoder: resnet101\n",
            "  fc_dim: 2048\n",
            "  weights_decoder: \n",
            "  weights_encoder: \n",
            "TEST:\n",
            "  batch_size: 1\n",
            "  checkpoint: epoch_50.pth\n",
            "  result: ./\n",
            "TRAIN:\n",
            "  batch_size_per_gpu: 2\n",
            "  beta1: 0.9\n",
            "  deep_sup_scale: 0.4\n",
            "  disp_iter: 20\n",
            "  epoch_iters: 5000\n",
            "  fix_bn: False\n",
            "  lr_decoder: 0.02\n",
            "  lr_encoder: 0.02\n",
            "  lr_pow: 0.9\n",
            "  num_epoch: 40\n",
            "  optim: SGD\n",
            "  seed: 304\n",
            "  start_epoch: 0\n",
            "  weight_decay: 0.0001\n",
            "  workers: 2\n",
            "VAL:\n",
            "  batch_size: 1\n",
            "  checkpoint: epoch_50.pth\n",
            "  visualize: False\n",
            "[2022-04-09 16:18:10,133 INFO train.py line 246 959] Outputing checkpoints to: ckpt/ade20k-resnet101-upernet\n",
            "# samples: 20210\n",
            "1 Epoch = 5000 iters\n",
            "Epoch: [1][0/5000], Time: 0.39, Data: 0.00, lr_encoder: 0.020000, lr_decoder: 0.020000, Accuracy: 0.01, Loss: 5.980770\n",
            "Epoch: [1][20/5000], Time: 0.54, Data: 0.01, lr_encoder: 0.019998, lr_decoder: 0.019998, Accuracy: 28.24, Loss: 4.149312\n",
            "Epoch: [1][40/5000], Time: 0.50, Data: 0.01, lr_encoder: 0.019996, lr_decoder: 0.019996, Accuracy: 28.08, Loss: 3.794451\n",
            "Epoch: [1][60/5000], Time: 0.50, Data: 0.02, lr_encoder: 0.019995, lr_decoder: 0.019995, Accuracy: 30.03, Loss: 3.560629\n",
            "Epoch: [1][80/5000], Time: 0.49, Data: 0.02, lr_encoder: 0.019993, lr_decoder: 0.019993, Accuracy: 30.13, Loss: 3.485954\n",
            "Epoch: [1][100/5000], Time: 0.49, Data: 0.03, lr_encoder: 0.019991, lr_decoder: 0.019991, Accuracy: 29.57, Loss: 3.495931\n",
            "Epoch: [1][120/5000], Time: 0.49, Data: 0.02, lr_encoder: 0.019989, lr_decoder: 0.019989, Accuracy: 29.37, Loss: 3.493373\n",
            "Epoch: [1][140/5000], Time: 0.49, Data: 0.02, lr_encoder: 0.019987, lr_decoder: 0.019987, Accuracy: 29.73, Loss: 3.446898\n",
            "Epoch: [1][160/5000], Time: 0.48, Data: 0.02, lr_encoder: 0.019986, lr_decoder: 0.019986, Accuracy: 30.04, Loss: 3.374192\n",
            "Epoch: [1][180/5000], Time: 0.49, Data: 0.02, lr_encoder: 0.019984, lr_decoder: 0.019984, Accuracy: 30.00, Loss: 3.353859\n",
            "Epoch: [1][200/5000], Time: 0.49, Data: 0.02, lr_encoder: 0.019982, lr_decoder: 0.019982, Accuracy: 30.36, Loss: 3.310615\n",
            "Epoch: [1][220/5000], Time: 0.49, Data: 0.02, lr_encoder: 0.019980, lr_decoder: 0.019980, Accuracy: 30.81, Loss: 3.258852\n",
            "Epoch: [1][240/5000], Time: 0.49, Data: 0.02, lr_encoder: 0.019978, lr_decoder: 0.019978, Accuracy: 30.78, Loss: 3.250098\n",
            "Epoch: [1][260/5000], Time: 0.49, Data: 0.02, lr_encoder: 0.019977, lr_decoder: 0.019977, Accuracy: 30.76, Loss: 3.234308\n",
            "Epoch: [1][280/5000], Time: 0.49, Data: 0.02, lr_encoder: 0.019975, lr_decoder: 0.019975, Accuracy: 30.80, Loss: 3.217999\n",
            "Epoch: [1][300/5000], Time: 0.49, Data: 0.02, lr_encoder: 0.019973, lr_decoder: 0.019973, Accuracy: 30.89, Loss: 3.203803\n",
            "Epoch: [1][320/5000], Time: 0.50, Data: 0.02, lr_encoder: 0.019971, lr_decoder: 0.019971, Accuracy: 30.74, Loss: 3.201665\n"
          ]
        }
      ],
      "source": [
        "!python './drive/MyDrive/scene-segmentation/train.py' --gpus 0 --cfg ./drive/MyDrive/scene-segmentation/config/ade20k-resnet101-upernet.yaml"
      ]
    },
    {
      "cell_type": "code",
      "source": [
        "!python './drive/MyDrive/scene-segmentation/eval.py' --cfg ./drive/MyDrive/scene-segmentation/config/ade20k-resnet101-upernet.yaml"
      ],
      "metadata": {
        "id": "5e54mpNuCa6e"
      },
      "execution_count": null,
      "outputs": []
    },
    {
      "cell_type": "code",
      "execution_count": null,
      "metadata": {
        "id": "MLlmrRlnzojE"
      },
      "outputs": [],
      "source": [
        "import shutil\n",
        "\n",
        "shutil.rmtree('./drive/MyDrive/co-regularized-alignment-for-domain-adaptation-master/output/model_5')"
      ]
    }
  ],
  "metadata": {
    "accelerator": "GPU",
    "colab": {
      "collapsed_sections": [],
      "name": "run-scene-seg.ipynb",
      "provenance": []
    },
    "kernelspec": {
      "display_name": "Python 3",
      "name": "python3"
    },
    "language_info": {
      "name": "python"
    }
  },
  "nbformat": 4,
  "nbformat_minor": 0
}